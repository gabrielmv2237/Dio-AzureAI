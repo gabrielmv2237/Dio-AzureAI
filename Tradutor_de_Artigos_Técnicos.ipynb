{
  "nbformat": 4,
  "nbformat_minor": 0,
  "metadata": {
    "colab": {
      "provenance": [],
      "authorship_tag": "ABX9TyMgfHOjbaQW2LL3ycitoFD9",
      "include_colab_link": true
    },
    "kernelspec": {
      "name": "python3",
      "display_name": "Python 3"
    },
    "language_info": {
      "name": "python"
    }
  },
  "cells": [
    {
      "cell_type": "markdown",
      "metadata": {
        "id": "view-in-github",
        "colab_type": "text"
      },
      "source": [
        "<a href=\"https://colab.research.google.com/github/gabrielmv2237/Dio-AzureAI/blob/main/Tradutor_de_Artigos_T%C3%A9cnicos.ipynb\" target=\"_parent\"><img src=\"https://colab.research.google.com/assets/colab-badge.svg\" alt=\"Open In Colab\"/></a>"
      ]
    },
    {
      "cell_type": "code",
      "source": [
        "!pip install requests python-docx\n",
        "!pip install requests beautifullsoup4 openai langchain-openai"
      ],
      "metadata": {
        "colab": {
          "base_uri": "https://localhost:8080/"
        },
        "id": "HP1fOIMvJPVo",
        "outputId": "c4863b32-2506-4025-d577-b07e60fb7e3b"
      },
      "execution_count": 4,
      "outputs": [
        {
          "output_type": "stream",
          "name": "stdout",
          "text": [
            "Requirement already satisfied: requests in /usr/local/lib/python3.10/dist-packages (2.32.3)\n",
            "Requirement already satisfied: python-docx in /usr/local/lib/python3.10/dist-packages (1.1.2)\n",
            "Requirement already satisfied: charset-normalizer<4,>=2 in /usr/local/lib/python3.10/dist-packages (from requests) (3.4.0)\n",
            "Requirement already satisfied: idna<4,>=2.5 in /usr/local/lib/python3.10/dist-packages (from requests) (3.10)\n",
            "Requirement already satisfied: urllib3<3,>=1.21.1 in /usr/local/lib/python3.10/dist-packages (from requests) (2.2.3)\n",
            "Requirement already satisfied: certifi>=2017.4.17 in /usr/local/lib/python3.10/dist-packages (from requests) (2024.8.30)\n",
            "Requirement already satisfied: lxml>=3.1.0 in /usr/local/lib/python3.10/dist-packages (from python-docx) (5.3.0)\n",
            "Requirement already satisfied: typing-extensions>=4.9.0 in /usr/local/lib/python3.10/dist-packages (from python-docx) (4.12.2)\n",
            "Requirement already satisfied: requests in /usr/local/lib/python3.10/dist-packages (2.32.3)\n",
            "\u001b[31mERROR: Could not find a version that satisfies the requirement beautifullsoup4 (from versions: none)\u001b[0m\u001b[31m\n",
            "\u001b[0m\u001b[31mERROR: No matching distribution found for beautifullsoup4\u001b[0m\u001b[31m\n",
            "\u001b[0m"
          ]
        }
      ]
    },
    {
      "cell_type": "code",
      "execution_count": null,
      "metadata": {
        "id": "-rHFEatZHvUp"
      },
      "outputs": [],
      "source": [
        "import request\n",
        "from docx import Document\n",
        "import os\n",
        "\n",
        "subscription_key = ''\n",
        "endpoint = ''\n",
        "location = ''\n",
        "target_language = 'pt-br'\n",
        "\n",
        "def translator_text(text, target_language ):\n",
        "  path = '/translate'\n",
        "  constructed_url = endpoint + path\n",
        "\n",
        "  headers = {\n",
        "      'Ocp-Apim-Subscription-Key' : subscription_key,\n",
        "      'Ocp-Apim-Subscription-Region' : location,\n",
        "      'Content-type' : 'application/json',\n",
        "      'X-ClientTraceId': str(os.unrandom(16))\n",
        "  }\n",
        "\n",
        "  body = [{\n",
        "      'text' : text\n",
        "  }]\n",
        "\n",
        "  params = {\n",
        "    'api-version': '3.0',\n",
        "    'from' : 'en',\n",
        "    'to': target_language\n",
        "  }\n",
        "  request = requests.post(constructed_url, params=params, headers=headers, json=body)\n",
        "  response = request.json()\n",
        "  return response[0][\"translations\"][0][\"text\"]\n",
        "\n",
        "path = '/translate'\n",
        "contructed_url = endpoint + path\n",
        "\n",
        ""
      ]
    },
    {
      "cell_type": "code",
      "source": [
        "def translate_document(path):\n",
        "  document = Document(path)\n",
        "  full_text = []\n",
        "  for paragraph in document.paragraphs:\n",
        "    translator_text = translator_text(paragraph.text, target_language)\n",
        "    full_text.append(translator_text)\n",
        "\n",
        "  translated_doc = Document()\n",
        "  for line in full_text:\n",
        "    translated_doc.add_paragraph(line)\n",
        "  path_translated = path.replace(\".docx\", f\"_{target_language}.docx\")\n",
        "  translated_doc.save(path_translated)\n",
        "\n",
        "  return path_translated"
      ],
      "metadata": {
        "id": "Mu6xQ9vqMDI6"
      },
      "execution_count": 3,
      "outputs": []
    },
    {
      "cell_type": "code",
      "source": [
        "import requests\n",
        "from bs4 import BeautifulSoup\n",
        "\n",
        "def extract_text_from_url(url) :\n",
        "  response = requests.get(url)\n",
        "\n",
        "  if response.status_code != 200:\n",
        "    soup = BeautifulSoup(response.text, 'html.parser')\n",
        "    for script_or_style in soup(['script', 'style']):\n",
        "      script_or_style.decompose()\n",
        "    text = soup.get_text(separator = ' ')\n",
        "    linhas = (line.strip() for line in text.splitlines())\n",
        "    parts = (phrase.strip() for line in linhas for phrase in line.split(' '))\n",
        "    texto_limpo = '\\n'.join(part for part in parts if part)\n",
        "    return text\n",
        "  else:\n",
        "    print(f\"Status code: {response.status_code}\")\n",
        "    return None\n",
        "\n",
        "  soup = BeautifulSoup(response.text, 'html.parser')\n",
        "  text = soup.get_text()\n",
        "  return text"
      ],
      "metadata": {
        "id": "UZJb3h_VNwxN"
      },
      "execution_count": null,
      "outputs": []
    },
    {
      "cell_type": "code",
      "source": [
        "from langchain_openai.chat_models.azure import AzureChatOpenAI\n",
        "\n",
        "client = AzureChatOpenAI(\n",
        "    azure_endpoint = ''\n",
        "    api_key = '',\n",
        "    api_version = ''\n",
        "    deployment_name = ''\n",
        "    max_retries = 0\n",
        ")\n",
        "\n",
        "def translate_article(text,lang):\n",
        "  messages = [\n",
        "      ('system', 'Você atua como tradutor de texto'),\n",
        "      ('user', f'Traduza o {texto} para o idioma {lang} e responda em markdown')\n",
        "  ]\n",
        "\n",
        "  response = client.invoke(messages)\n",
        "  return response.content\n",
        ""
      ],
      "metadata": {
        "id": "4xYKNcjSO-VZ"
      },
      "execution_count": null,
      "outputs": []
    },
    {
      "cell_type": "code",
      "source": [
        "url : ''\n",
        "text : extract_text_from_url(url)\n",
        "article = translate_article(text, 'pt-br')\n",
        "print(article)"
      ],
      "metadata": {
        "id": "SyM1VGVNQHIA"
      },
      "execution_count": null,
      "outputs": []
    }
  ]
}